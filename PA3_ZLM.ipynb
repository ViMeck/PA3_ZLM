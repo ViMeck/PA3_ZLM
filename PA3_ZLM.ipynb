{
 "cells": [
  {
   "cell_type": "markdown",
   "id": "2a6c270a",
   "metadata": {},
   "source": [
    "# Assignment 3- CS150\n",
    "## Zoe Mecklenburg, 9/20/2023"
   ]
  },
  {
   "cell_type": "markdown",
   "id": "ddf43eb4",
   "metadata": {},
   "source": [
    "### List Operations"
   ]
  },
  {
   "cell_type": "code",
   "execution_count": 12,
   "id": "4e849df5",
   "metadata": {},
   "outputs": [
    {
     "name": "stdout",
     "output_type": "stream",
     "text": [
      "[10, 20, 30, 40, 50]\n"
     ]
    }
   ],
   "source": [
    "numbers=[10,20,30,40,50]\n",
    "print(numbers)"
   ]
  },
  {
   "cell_type": "code",
   "execution_count": 13,
   "id": "af14b11d",
   "metadata": {},
   "outputs": [
    {
     "name": "stdout",
     "output_type": "stream",
     "text": [
      "[10, 20, 30, 40, 50, 60]\n"
     ]
    }
   ],
   "source": [
    "numbers.append(60)\n",
    "print(numbers)"
   ]
  },
  {
   "cell_type": "code",
   "execution_count": 14,
   "id": "524049be",
   "metadata": {},
   "outputs": [
    {
     "name": "stdout",
     "output_type": "stream",
     "text": [
      "[5, 10, 20, 30, 40, 50, 60]\n"
     ]
    }
   ],
   "source": [
    "numbers.insert(0,5)\n",
    "print(numbers)"
   ]
  },
  {
   "cell_type": "code",
   "execution_count": 21,
   "id": "f16621ee",
   "metadata": {},
   "outputs": [
    {
     "name": "stdout",
     "output_type": "stream",
     "text": [
      "[5, 10, 30, 40, 50, 60]\n"
     ]
    }
   ],
   "source": [
    "numbers.remove(20)\n",
    "print(numbers)"
   ]
  },
  {
   "cell_type": "markdown",
   "id": "23a288b0",
   "metadata": {},
   "source": [
    "### Tuple Basics"
   ]
  },
  {
   "cell_type": "code",
   "execution_count": 23,
   "id": "d6c66957",
   "metadata": {},
   "outputs": [
    {
     "name": "stdout",
     "output_type": "stream",
     "text": [
      "Today is Wednesday\n"
     ]
    }
   ],
   "source": [
    "days=[\"Monday\",\"Tuesday\",\"Wednesday\",\"Thursday\",\"Friday\",\"Saturday\",\"Sunday\"]\n",
    "print(f\"Today is\",days[2])"
   ]
  },
  {
   "cell_type": "code",
   "execution_count": 25,
   "id": "eab38954",
   "metadata": {},
   "outputs": [],
   "source": [
    "# days.replace, you can't directly replace an item from a list"
   ]
  },
  {
   "cell_type": "markdown",
   "id": "4cb6ac12",
   "metadata": {},
   "source": [
    "### Reversing Sublist"
   ]
  },
  {
   "cell_type": "code",
   "execution_count": 26,
   "id": "649e24e6",
   "metadata": {},
   "outputs": [
    {
     "name": "stdout",
     "output_type": "stream",
     "text": [
      "['a', 'b', 'c', 'd', 'e', 'f', 'g', 'h', 'i', 'j', 'k', 'l', 'm', 'n', 'o', 'p', 'q', 'r', 's', 't', 'u', 'v', 'w', 'x', 'y', 'z']\n"
     ]
    }
   ],
   "source": [
    "letters=[\"a\",\"b\",\"c\",\"d\",\"e\",\"f\",\"g\",\"h\",\"i\",\"j\",\"k\",\"l\",\"m\",\"n\",\"o\",\"p\",\"q\",\"r\",\"s\",\"t\",\"u\",\"v\",\"w\",\"x\",\"y\",\"z\"]\n",
    "print(letters)"
   ]
  },
  {
   "cell_type": "code",
   "execution_count": 31,
   "id": "8883d80b",
   "metadata": {},
   "outputs": [
    {
     "name": "stdout",
     "output_type": "stream",
     "text": [
      "['k', 'l', 'm', 'n', 'o', 'p']\n"
     ]
    }
   ],
   "source": [
    "sublist=letters[10:16]\n",
    "print(sublist)"
   ]
  },
  {
   "cell_type": "code",
   "execution_count": 32,
   "id": "fcf3303f",
   "metadata": {},
   "outputs": [
    {
     "name": "stdout",
     "output_type": "stream",
     "text": [
      "['p', 'o', 'n', 'm', 'l', 'k']\n"
     ]
    }
   ],
   "source": [
    "sublist.reverse()\n",
    "print(sublist)"
   ]
  },
  {
   "cell_type": "markdown",
   "id": "27b2082d",
   "metadata": {},
   "source": [
    "### Tuple Packing and Unpacking"
   ]
  },
  {
   "cell_type": "code",
   "execution_count": 35,
   "id": "86137834",
   "metadata": {},
   "outputs": [
    {
     "name": "stdout",
     "output_type": "stream",
     "text": [
      "My first name is zoe\n",
      "My last name is mecklenburg\n",
      "I'm 20 years old\n",
      "And I love music\n"
     ]
    }
   ],
   "source": [
    "student=[\"zoe\",\"mecklenburg\",20,\"music\"]\n",
    "print(f\"My first name is {student[0]}\")\n",
    "print(f\"My last name is {student[1]}\")\n",
    "print(f\"I'm {student[2]} years old\")\n",
    "print(f\"And I love {student[3]}\")"
   ]
  },
  {
   "cell_type": "markdown",
   "id": "2a8591bb",
   "metadata": {},
   "source": [
    "### Shopping List"
   ]
  },
  {
   "cell_type": "code",
   "execution_count": 43,
   "id": "43499cb5",
   "metadata": {},
   "outputs": [
    {
     "name": "stdout",
     "output_type": "stream",
     "text": [
      "['bread', 'ham', 'mac and cheese', 'pizza', 'candy']\n"
     ]
    }
   ],
   "source": [
    "shopping_list=[\"bread\",\"ham\",\"mac and cheese\",\"pizza\",\"candy\"]\n",
    "print(shopping_list)"
   ]
  },
  {
   "cell_type": "code",
   "execution_count": 44,
   "id": "b0879982",
   "metadata": {},
   "outputs": [
    {
     "data": {
      "text/plain": [
       "5"
      ]
     },
     "execution_count": 44,
     "metadata": {},
     "output_type": "execute_result"
    }
   ],
   "source": [
    "len(shopping_list)"
   ]
  },
  {
   "cell_type": "code",
   "execution_count": 45,
   "id": "2a5967bb",
   "metadata": {},
   "outputs": [
    {
     "name": "stdout",
     "output_type": "stream",
     "text": [
      "['bread', 'ham', 'cheese', 'pizza', 'candy']\n"
     ]
    }
   ],
   "source": [
    "shopping_list.pop(2)\n",
    "shopping_list.insert(2,\"cheese\")\n",
    "print(shopping_list)"
   ]
  },
  {
   "cell_type": "code",
   "execution_count": 46,
   "id": "109eb23e",
   "metadata": {},
   "outputs": [
    {
     "name": "stdout",
     "output_type": "stream",
     "text": [
      "['bread', 'candy', 'cheese', 'ham', 'pizza']\n"
     ]
    }
   ],
   "source": [
    "shopping_list.sort()\n",
    "print(shopping_list)"
   ]
  },
  {
   "cell_type": "code",
   "execution_count": null,
   "id": "cd60d217",
   "metadata": {},
   "outputs": [],
   "source": []
  }
 ],
 "metadata": {
  "kernelspec": {
   "display_name": "Python 3 (ipykernel)",
   "language": "python",
   "name": "python3"
  },
  "language_info": {
   "codemirror_mode": {
    "name": "ipython",
    "version": 3
   },
   "file_extension": ".py",
   "mimetype": "text/x-python",
   "name": "python",
   "nbconvert_exporter": "python",
   "pygments_lexer": "ipython3",
   "version": "3.11.4"
  }
 },
 "nbformat": 4,
 "nbformat_minor": 5
}
